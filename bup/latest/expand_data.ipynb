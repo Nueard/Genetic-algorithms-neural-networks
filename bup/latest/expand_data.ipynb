{
 "cells": [
  {
   "cell_type": "code",
   "execution_count": 1,
   "metadata": {
    "collapsed": false
   },
   "outputs": [
    {
     "name": "stderr",
     "output_type": "stream",
     "text": [
      "C:\\Users\\iveli\\Anaconda\\lib\\site-packages\\skimage\\util\\dtype.py:111: UserWarning: Possible precision loss when converting from float64 to uint8\n",
      "  \"%s to %s\" % (dtypeobj_in, dtypeobj))\n"
     ]
    }
   ],
   "source": [
    "import numpy\n",
    "import glob\n",
    "import skimage.io\n",
    "import skimage.transform\n",
    "\n",
    "path = \"./data/images/\"\n",
    "\n",
    "for index,file in enumerate(glob.glob(path+\"*.jpg\")):\n",
    "    image = skimage.io.imread(file)\n",
    "    image_one = skimage.transform.rotate(image, 5)\n",
    "    skimage.io.imsave(file.replace(\".jpg\", \"\") + \"-1.jpg\", image_one)\n",
    "    image_two = skimage.transform.rotate(image, -5)\n",
    "    skimage.io.imsave(file.replace(\".jpg\", \"\") + \"-2.jpg\", image_two)"
   ]
  },
  {
   "cell_type": "code",
   "execution_count": null,
   "metadata": {
    "collapsed": true
   },
   "outputs": [],
   "source": []
  }
 ],
 "metadata": {
  "kernelspec": {
   "display_name": "Python 2",
   "language": "python",
   "name": "python2"
  },
  "language_info": {
   "codemirror_mode": {
    "name": "ipython",
    "version": 2
   },
   "file_extension": ".py",
   "mimetype": "text/x-python",
   "name": "python",
   "nbconvert_exporter": "python",
   "pygments_lexer": "ipython2",
   "version": "2.7.10"
  }
 },
 "nbformat": 4,
 "nbformat_minor": 0
}

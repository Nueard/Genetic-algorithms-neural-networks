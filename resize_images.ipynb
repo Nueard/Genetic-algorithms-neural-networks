{
 "cells": [
  {
   "cell_type": "code",
   "execution_count": null,
   "metadata": {
    "collapsed": false
   },
   "outputs": [],
   "source": [
    "import numpy\n",
    "import glob\n",
    "import skimage.io\n",
    "import skimage.transform\n",
    "\n",
    "path = \"./data/images/\"\n",
    "\n",
    "for index,file in enumerate(glob.glob(path+\"*.jpg\")):\n",
    "    image = skimage.io.imread(file)\n",
    "    image = skimage.transform.rescale(image, 0.5)\n",
    "    skimage.io.imsave(file, image)"
   ]
  },
  {
   "cell_type": "code",
   "execution_count": null,
   "metadata": {
    "collapsed": true
   },
   "outputs": [],
   "source": []
  }
 ],
 "metadata": {
  "kernelspec": {
   "display_name": "Python 2",
   "language": "python",
   "name": "python2"
  },
  "language_info": {
   "codemirror_mode": {
    "name": "ipython",
    "version": 2
   },
   "file_extension": ".py",
   "mimetype": "text/x-python",
   "name": "python",
   "nbconvert_exporter": "python",
   "pygments_lexer": "ipython2",
   "version": "2.7.10"
  }
 },
 "nbformat": 4,
 "nbformat_minor": 0
}

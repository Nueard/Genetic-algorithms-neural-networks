{
 "cells": [
  {
   "cell_type": "code",
   "execution_count": null,
   "metadata": {
    "collapsed": false
   },
   "outputs": [],
   "source": [
    "import theano\n",
    "import sys\n",
    "import numpy\n",
    "\n",
    "from framework.Network import Network\n",
    "from framework.ConvPoolLayer import ConvPoolLayer\n",
    "from framework.FullyConnectedLayer import FullyConnectedLayer\n",
    "from framework.SoftmaxLayer import SoftmaxLayer\n",
    "from framework.DataLoader import load_data\n",
    "\n",
    "# CONFIG\n",
    "try: theano.config.device = 'gpu'\n",
    "except: pass\n",
    "theano.config.floatX = 'float32'\n",
    "numpy.random.seed(0)"
   ]
  },
  {
   "cell_type": "code",
   "execution_count": null,
   "metadata": {
    "collapsed": true
   },
   "outputs": [],
   "source": [
    "# HYPER PARAMETERS\n",
    "mini_batch_size = 100\n",
    "epochs = 400\n",
    "learning_rate = 0.01\n",
    "data_split = [0.5, 0.75, 1]"
   ]
  },
  {
   "cell_type": "code",
   "execution_count": null,
   "metadata": {
    "collapsed": false
   },
   "outputs": [],
   "source": [
    "net = Network([\n",
    "            ConvPoolLayer(image_shape=(mini_batch_size, 3, 128, 128),\n",
    "                      filter_shape=(100, 3, 9, 9),\n",
    "                      poolsize=(3, 3)),\n",
    "            # output ( 128 - 9 + 1 ) / 3 = 40\n",
    "            ConvPoolLayer(image_shape=(mini_batch_size, 100, 40, 40),\n",
    "                      filter_shape=(50, 100, 2, 2),\n",
    "                      poolsize=(3, 3)),\n",
    "            # output ( 40 - 2 + 1 ) / 3 = 13\n",
    "            ConvPoolLayer(image_shape=(mini_batch_size, 50, 13, 13),\n",
    "                      filter_shape=(10, 50, 2, 2),\n",
    "                      poolsize=(2, 2)),\n",
    "            # output ( 13 - 2 + 1 ) / 2 = 6\n",
    "            FullyConnectedLayer(n_in=10*6*6, n_out=80, p_dropout=0.2),\n",
    "            SoftmaxLayer(n_in=80, n_out=8, p_dropout=0.2)],\n",
    "            mini_batch_size)"
   ]
  },
  {
   "cell_type": "code",
   "execution_count": null,
   "metadata": {
    "collapsed": false,
    "scrolled": true
   },
   "outputs": [],
   "source": [
    "training_data, validation_data, test_data = load_data(data_split=data_split)"
   ]
  },
  {
   "cell_type": "code",
   "execution_count": null,
   "metadata": {
    "collapsed": false,
    "scrolled": false
   },
   "outputs": [],
   "source": [
    "net.train(training_data, epochs, mini_batch_size, learning_rate,\n",
    "            validation_data, test_data)"
   ]
  },
  {
   "cell_type": "code",
   "execution_count": null,
   "metadata": {
    "collapsed": true
   },
   "outputs": [],
   "source": []
  }
 ],
 "metadata": {
  "kernelspec": {
   "display_name": "Python 2",
   "language": "python",
   "name": "python2"
  },
  "language_info": {
   "codemirror_mode": {
    "name": "ipython",
    "version": 2
   },
   "file_extension": ".py",
   "mimetype": "text/x-python",
   "name": "python",
   "nbconvert_exporter": "python",
   "pygments_lexer": "ipython2",
   "version": "2.7.10"
  }
 },
 "nbformat": 4,
 "nbformat_minor": 0
}
